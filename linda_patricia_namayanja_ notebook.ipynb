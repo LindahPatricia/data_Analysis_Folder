{
 "cells": [
  {
   "cell_type": "code",
   "execution_count": null,
   "id": "909d7ac6",
   "metadata": {},
   "outputs": [],
   "source": [
    "import pandas as pd\n",
    "import seaborn as sns\n",
    "import matplotlib.pyplot as plt\n",
    "import numpy as np\n"
   ]
  },
  {
   "cell_type": "markdown",
   "id": "930ef808",
   "metadata": {},
   "source": [
    "# control the display of seaborn data"
   ]
  },
  {
   "cell_type": "code",
   "execution_count": 2,
   "id": "9b214614",
   "metadata": {},
   "outputs": [
    {
     "data": {
      "text/html": [
       "<div>\n",
       "<style scoped>\n",
       "    .dataframe tbody tr th:only-of-type {\n",
       "        vertical-align: middle;\n",
       "    }\n",
       "\n",
       "    .dataframe tbody tr th {\n",
       "        vertical-align: top;\n",
       "    }\n",
       "\n",
       "    .dataframe thead th {\n",
       "        text-align: right;\n",
       "    }\n",
       "</style>\n",
       "<table border=\"1\" class=\"dataframe\">\n",
       "  <thead>\n",
       "    <tr style=\"text-align: right;\">\n",
       "      <th></th>\n",
       "      <th>Timestamp</th>\n",
       "      <th>What is your gender?</th>\n",
       "      <th>Age</th>\n",
       "      <th>What is your emotion?</th>\n",
       "      <th>Year of birth</th>\n",
       "      <th>What is your CGPA?</th>\n",
       "      <th>Do you have a Girl Friend or BOY Friend</th>\n",
       "      <th>Do you have Depression?</th>\n",
       "      <th>Do you have Anxiety?</th>\n",
       "      <th>Do you have Panic attack?</th>\n",
       "      <th>Did you have seek any specialist for a treatment?</th>\n",
       "    </tr>\n",
       "  </thead>\n",
       "  <tbody>\n",
       "    <tr>\n",
       "      <th>0</th>\n",
       "      <td>05/07/2023 09:38:39</td>\n",
       "      <td>Male</td>\n",
       "      <td>21</td>\n",
       "      <td>Content</td>\n",
       "      <td>2002</td>\n",
       "      <td>4.22</td>\n",
       "      <td>No</td>\n",
       "      <td>No</td>\n",
       "      <td>Yes</td>\n",
       "      <td>Yes</td>\n",
       "      <td>Yes</td>\n",
       "    </tr>\n",
       "    <tr>\n",
       "      <th>1</th>\n",
       "      <td>05/07/2023 09:38:57</td>\n",
       "      <td>Marabou stock</td>\n",
       "      <td>45</td>\n",
       "      <td>Weird</td>\n",
       "      <td>2100</td>\n",
       "      <td>8.9</td>\n",
       "      <td>Yes</td>\n",
       "      <td>Yes</td>\n",
       "      <td>Yes</td>\n",
       "      <td>Yes</td>\n",
       "      <td>No</td>\n",
       "    </tr>\n",
       "    <tr>\n",
       "      <th>2</th>\n",
       "      <td>05/07/2023 09:39:09</td>\n",
       "      <td>Female</td>\n",
       "      <td>20</td>\n",
       "      <td>Happy</td>\n",
       "      <td>2002</td>\n",
       "      <td>3.98</td>\n",
       "      <td>No</td>\n",
       "      <td>No</td>\n",
       "      <td>Yes</td>\n",
       "      <td>Yes</td>\n",
       "      <td>No</td>\n",
       "    </tr>\n",
       "    <tr>\n",
       "      <th>3</th>\n",
       "      <td>05/07/2023 09:39:12</td>\n",
       "      <td>Male</td>\n",
       "      <td>21</td>\n",
       "      <td>Happy</td>\n",
       "      <td>2003</td>\n",
       "      <td>4.37</td>\n",
       "      <td>No</td>\n",
       "      <td>No</td>\n",
       "      <td>No</td>\n",
       "      <td>No</td>\n",
       "      <td>Nope</td>\n",
       "    </tr>\n",
       "    <tr>\n",
       "      <th>4</th>\n",
       "      <td>05/07/2023 09:39:14</td>\n",
       "      <td>Female</td>\n",
       "      <td>21</td>\n",
       "      <td>Happy</td>\n",
       "      <td>2002</td>\n",
       "      <td>3.63</td>\n",
       "      <td>No</td>\n",
       "      <td>No</td>\n",
       "      <td>No</td>\n",
       "      <td>No</td>\n",
       "      <td>No</td>\n",
       "    </tr>\n",
       "    <tr>\n",
       "      <th>...</th>\n",
       "      <td>...</td>\n",
       "      <td>...</td>\n",
       "      <td>...</td>\n",
       "      <td>...</td>\n",
       "      <td>...</td>\n",
       "      <td>...</td>\n",
       "      <td>...</td>\n",
       "      <td>...</td>\n",
       "      <td>...</td>\n",
       "      <td>...</td>\n",
       "      <td>...</td>\n",
       "    </tr>\n",
       "    <tr>\n",
       "      <th>92</th>\n",
       "      <td>05/07/2023 09:53:56</td>\n",
       "      <td>Female</td>\n",
       "      <td>68</td>\n",
       "      <td>Sad</td>\n",
       "      <td>1953</td>\n",
       "      <td>4.8</td>\n",
       "      <td>No</td>\n",
       "      <td>Yes</td>\n",
       "      <td>Yes</td>\n",
       "      <td>Yes</td>\n",
       "      <td>Yes</td>\n",
       "    </tr>\n",
       "    <tr>\n",
       "      <th>93</th>\n",
       "      <td>05/07/2023 09:54:13</td>\n",
       "      <td>Male</td>\n",
       "      <td>29</td>\n",
       "      <td>Hopeful</td>\n",
       "      <td>1994</td>\n",
       "      <td>I don't know yet</td>\n",
       "      <td>Sure, multiple girlfriends</td>\n",
       "      <td>No</td>\n",
       "      <td>No</td>\n",
       "      <td>No</td>\n",
       "      <td>No</td>\n",
       "    </tr>\n",
       "    <tr>\n",
       "      <th>94</th>\n",
       "      <td>05/07/2023 09:54:28</td>\n",
       "      <td>Male</td>\n",
       "      <td>22</td>\n",
       "      <td>Fighting poverty</td>\n",
       "      <td>2001</td>\n",
       "      <td>3.12</td>\n",
       "      <td>Girl friends are thieves</td>\n",
       "      <td>Yes</td>\n",
       "      <td>Yes</td>\n",
       "      <td>No</td>\n",
       "      <td>No</td>\n",
       "    </tr>\n",
       "    <tr>\n",
       "      <th>95</th>\n",
       "      <td>05/07/2023 09:54:36</td>\n",
       "      <td>Male</td>\n",
       "      <td>23</td>\n",
       "      <td>good and bad</td>\n",
       "      <td>2000</td>\n",
       "      <td>3.5</td>\n",
       "      <td>Namiiro Zahara Bidin</td>\n",
       "      <td>No</td>\n",
       "      <td>No</td>\n",
       "      <td>No</td>\n",
       "      <td>No</td>\n",
       "    </tr>\n",
       "    <tr>\n",
       "      <th>96</th>\n",
       "      <td>05/07/2023 09:54:52</td>\n",
       "      <td>male</td>\n",
       "      <td>30</td>\n",
       "      <td>hunger</td>\n",
       "      <td>2023</td>\n",
       "      <td>5</td>\n",
       "      <td>ARI</td>\n",
       "      <td>no</td>\n",
       "      <td>yeah</td>\n",
       "      <td>nah</td>\n",
       "      <td>yeah</td>\n",
       "    </tr>\n",
       "  </tbody>\n",
       "</table>\n",
       "<p>97 rows × 11 columns</p>\n",
       "</div>"
      ],
      "text/plain": [
       "              Timestamp What is your gender?  Age What is your emotion?  \\\n",
       "0   05/07/2023 09:38:39                 Male   21               Content   \n",
       "1   05/07/2023 09:38:57        Marabou stock   45                 Weird   \n",
       "2   05/07/2023 09:39:09              Female    20                 Happy   \n",
       "3   05/07/2023 09:39:12                 Male   21                 Happy   \n",
       "4   05/07/2023 09:39:14               Female   21                 Happy   \n",
       "..                  ...                  ...  ...                   ...   \n",
       "92  05/07/2023 09:53:56              Female    68                   Sad   \n",
       "93  05/07/2023 09:54:13                 Male   29               Hopeful   \n",
       "94  05/07/2023 09:54:28                 Male   22      Fighting poverty   \n",
       "95  05/07/2023 09:54:36                 Male   23          good and bad   \n",
       "96  05/07/2023 09:54:52                 male   30                hunger   \n",
       "\n",
       "   Year of birth What is your CGPA? Do you have a Girl Friend or BOY Friend  \\\n",
       "0           2002               4.22                                      No   \n",
       "1           2100                8.9                                     Yes   \n",
       "2           2002               3.98                                      No   \n",
       "3           2003               4.37                                      No   \n",
       "4           2002               3.63                                      No   \n",
       "..           ...                ...                                     ...   \n",
       "92          1953                4.8                                      No   \n",
       "93          1994   I don't know yet              Sure, multiple girlfriends   \n",
       "94          2001               3.12                Girl friends are thieves   \n",
       "95          2000                3.5                    Namiiro Zahara Bidin   \n",
       "96          2023                  5                                     ARI   \n",
       "\n",
       "   Do you have Depression? Do you have Anxiety? Do you have Panic attack?  \\\n",
       "0                       No                  Yes                       Yes   \n",
       "1                      Yes                  Yes                       Yes   \n",
       "2                       No                  Yes                       Yes   \n",
       "3                       No                   No                        No   \n",
       "4                       No                   No                        No   \n",
       "..                     ...                  ...                       ...   \n",
       "92                     Yes                  Yes                       Yes   \n",
       "93                      No                   No                        No   \n",
       "94                     Yes                  Yes                        No   \n",
       "95                      No                   No                        No   \n",
       "96                      no                 yeah                       nah   \n",
       "\n",
       "   Did you have seek any specialist for a treatment?   \n",
       "0                                                 Yes  \n",
       "1                                                  No  \n",
       "2                                                  No  \n",
       "3                                                Nope  \n",
       "4                                                  No  \n",
       "..                                                ...  \n",
       "92                                                Yes  \n",
       "93                                                 No  \n",
       "94                                                 No  \n",
       "95                                                 No  \n",
       "96                                               yeah  \n",
       "\n",
       "[97 rows x 11 columns]"
      ]
     },
     "execution_count": 2,
     "metadata": {},
     "output_type": "execute_result"
    }
   ],
   "source": [
    "df=pd.read_csv(\"bse_dataset.csv\")\n",
    "df"
   ]
  },
  {
   "cell_type": "markdown",
   "id": "9c1565ff",
   "metadata": {},
   "source": [
    "# checking columns names"
   ]
  },
  {
   "cell_type": "code",
   "execution_count": 3,
   "id": "69a861ab",
   "metadata": {},
   "outputs": [
    {
     "data": {
      "text/plain": [
       "Index(['Timestamp', 'What is your gender?', 'Age', 'What is your emotion?',\n",
       "       'Year of birth', 'What is your CGPA?',\n",
       "       'Do you have a Girl Friend or BOY Friend', 'Do you have Depression?',\n",
       "       'Do you have Anxiety?', 'Do you have Panic attack?',\n",
       "       'Did you have seek any specialist for a treatment? '],\n",
       "      dtype='object')"
      ]
     },
     "execution_count": 3,
     "metadata": {},
     "output_type": "execute_result"
    }
   ],
   "source": [
    "df.columns"
   ]
  },
  {
   "cell_type": "markdown",
   "id": "909fdd96",
   "metadata": {},
   "source": [
    "# Checking for basic information # the datatypes of the columns listed"
   ]
  },
  {
   "cell_type": "code",
   "execution_count": 4,
   "id": "caf49b37",
   "metadata": {},
   "outputs": [
    {
     "name": "stdout",
     "output_type": "stream",
     "text": [
      "<class 'pandas.core.frame.DataFrame'>\n",
      "RangeIndex: 97 entries, 0 to 96\n",
      "Data columns (total 11 columns):\n",
      " #   Column                                              Non-Null Count  Dtype \n",
      "---  ------                                              --------------  ----- \n",
      " 0   Timestamp                                           97 non-null     object\n",
      " 1   What is your gender?                                97 non-null     object\n",
      " 2   Age                                                 97 non-null     int64 \n",
      " 3   What is your emotion?                               96 non-null     object\n",
      " 4   Year of birth                                       97 non-null     object\n",
      " 5   What is your CGPA?                                  97 non-null     object\n",
      " 6   Do you have a Girl Friend or BOY Friend             97 non-null     object\n",
      " 7   Do you have Depression?                             97 non-null     object\n",
      " 8   Do you have Anxiety?                                97 non-null     object\n",
      " 9   Do you have Panic attack?                           97 non-null     object\n",
      " 10  Did you have seek any specialist for a treatment?   97 non-null     object\n",
      "dtypes: int64(1), object(10)\n",
      "memory usage: 8.5+ KB\n"
     ]
    }
   ],
   "source": [
    "df.info()\n"
   ]
  },
  {
   "cell_type": "markdown",
   "id": "a27f9e02",
   "metadata": {},
   "source": [
    "# Checking for null values"
   ]
  },
  {
   "cell_type": "code",
   "execution_count": 5,
   "id": "dd9dad80",
   "metadata": {},
   "outputs": [
    {
     "data": {
      "text/plain": [
       "What is your emotion?                                 1\n",
       "Timestamp                                             0\n",
       "What is your gender?                                  0\n",
       "Age                                                   0\n",
       "Year of birth                                         0\n",
       "What is your CGPA?                                    0\n",
       "Do you have a Girl Friend or BOY Friend               0\n",
       "Do you have Depression?                               0\n",
       "Do you have Anxiety?                                  0\n",
       "Do you have Panic attack?                             0\n",
       "Did you have seek any specialist for a treatment?     0\n",
       "dtype: int64"
      ]
     },
     "execution_count": 5,
     "metadata": {},
     "output_type": "execute_result"
    }
   ],
   "source": [
    "df.isnull().sum().sort_values(ascending=False)"
   ]
  },
  {
   "cell_type": "markdown",
   "id": "caf639b0",
   "metadata": {},
   "source": [
    "# Check for the shape of data"
   ]
  },
  {
   "cell_type": "code",
   "execution_count": 6,
   "id": "6c8ed048",
   "metadata": {},
   "outputs": [
    {
     "data": {
      "text/plain": [
       "(97, 11)"
      ]
     },
     "execution_count": 6,
     "metadata": {},
     "output_type": "execute_result"
    }
   ],
   "source": [
    "df.shape"
   ]
  },
  {
   "cell_type": "markdown",
   "id": "5e4935f8",
   "metadata": {},
   "source": [
    "# Check for null values in percentage"
   ]
  },
  {
   "cell_type": "code",
   "execution_count": 7,
   "id": "7587195c",
   "metadata": {},
   "outputs": [
    {
     "name": "stdout",
     "output_type": "stream",
     "text": [
      "What is your emotion? ..... 1.0309278350515463 %\n"
     ]
    }
   ],
   "source": [
    "for i in df.columns:\n",
    "    if df[i].isnull().any():\n",
    "        print(i,\".....\",df[i].isnull().sum()*100/df.shape[0],\"%\")"
   ]
  },
  {
   "cell_type": "code",
   "execution_count": 41,
   "id": "9fbf038a",
   "metadata": {},
   "outputs": [
    {
     "data": {
      "text/html": [
       "<div>\n",
       "<style scoped>\n",
       "    .dataframe tbody tr th:only-of-type {\n",
       "        vertical-align: middle;\n",
       "    }\n",
       "\n",
       "    .dataframe tbody tr th {\n",
       "        vertical-align: top;\n",
       "    }\n",
       "\n",
       "    .dataframe thead th {\n",
       "        text-align: right;\n",
       "    }\n",
       "</style>\n",
       "<table border=\"1\" class=\"dataframe\">\n",
       "  <thead>\n",
       "    <tr style=\"text-align: right;\">\n",
       "      <th></th>\n",
       "    </tr>\n",
       "  </thead>\n",
       "  <tbody>\n",
       "  </tbody>\n",
       "</table>\n",
       "</div>"
      ],
      "text/plain": [
       "Empty DataFrame\n",
       "Columns: []\n",
       "Index: []"
      ]
     },
     "execution_count": 41,
     "metadata": {},
     "output_type": "execute_result"
    }
   ],
   "source": [
    "df_matrix=df.corr()\n",
    "df_matrix"
   ]
  },
  {
   "cell_type": "markdown",
   "id": "38687b89",
   "metadata": {},
   "source": [
    "# Checking for null values in figures\n"
   ]
  },
  {
   "cell_type": "code",
   "execution_count": 44,
   "id": "e83c2a88",
   "metadata": {},
   "outputs": [
    {
     "data": {
      "text/plain": [
       "<Axes: >"
      ]
     },
     "execution_count": 44,
     "metadata": {},
     "output_type": "execute_result"
    },
    {
     "data": {
      "image/png": "[encoded data removed]",
      "text/plain": [
       "<Figure size 500x500 with 2 Axes>"
      ]
     },
     "metadata": {},
     "output_type": "display_data"
    }
   ],
   "source": [
    "plt.figure(figsize=(5, 5))\n",
    "sns.heatmap(my_matrix, annot=True, cmap='coolwarm')"
   ]
  },
  {
   "cell_type": "markdown",
   "id": "674e6271",
   "metadata": {},
   "source": [
    "# Evening session-day7"
   ]
  },
  {
   "cell_type": "code",
   "execution_count": 9,
   "id": "9021b770",
   "metadata": {},
   "outputs": [
    {
     "name": "stdout",
     "output_type": "stream",
     "text": [
      "Empty DataFrame\n",
      "Columns: []\n",
      "Index: []\n",
      "1.5.3\n"
     ]
    }
   ],
   "source": [
    "import pandas as pd\n",
    "df=pd.DataFrame()\n",
    "print(df)\n",
    "print(pd.__version__)"
   ]
  },
  {
   "cell_type": "code",
   "execution_count": 10,
   "id": "bf6a8c90",
   "metadata": {},
   "outputs": [
    {
     "name": "stdout",
     "output_type": "stream",
     "text": [
      "    Name  Age      City\n",
      "0   adam   25  New York\n",
      "1    ena   30    London\n",
      "2  linda   35     Paris\n",
      "3  daisy   28   kampala\n"
     ]
    }
   ],
   "source": [
    "data = {'Name': ['adam', 'ena', 'linda', 'daisy'],\n",
    "        'Age': [25, 30, 35, 28],\n",
    "        'City': ['New York', 'London', 'Paris', 'kampala']}\n",
    "df1 = pd.DataFrame(data)\n",
    "print(df1)\n"
   ]
  },
  {
   "cell_type": "markdown",
   "id": "14f91431",
   "metadata": {},
   "source": [
    "# Acessing the items"
   ]
  },
  {
   "cell_type": "code",
   "execution_count": 11,
   "id": "9c41fdf2",
   "metadata": {},
   "outputs": [
    {
     "data": {
      "text/plain": [
       "0     adam\n",
       "1      ena\n",
       "2    linda\n",
       "3    daisy\n",
       "Name: Name, dtype: object"
      ]
     },
     "execution_count": 11,
     "metadata": {},
     "output_type": "execute_result"
    }
   ],
   "source": [
    "df1.Name"
   ]
  },
  {
   "cell_type": "code",
   "execution_count": 12,
   "id": "b0ead5a3",
   "metadata": {},
   "outputs": [
    {
     "data": {
      "text/plain": [
       "0    25\n",
       "1    30\n",
       "2    35\n",
       "3    28\n",
       "Name: Age, dtype: int64"
      ]
     },
     "execution_count": 12,
     "metadata": {},
     "output_type": "execute_result"
    }
   ],
   "source": [
    "df1.Age"
   ]
  },
  {
   "cell_type": "markdown",
   "id": "18332c8b",
   "metadata": {},
   "source": [
    "# exercise\n",
    "#creating a simple pandas series from the dictionary showing days and dates"
   ]
  },
  {
   "cell_type": "code",
   "execution_count": 13,
   "id": "37f84a68",
   "metadata": {},
   "outputs": [
    {
     "name": "stdout",
     "output_type": "stream",
     "text": [
      "Monday       2023-07-03\n",
      "Tuesday      2023-07-04\n",
      "Wednesday    2023-07-05\n",
      "dtype: object\n"
     ]
    }
   ],
   "source": [
    "data = {'Monday': '2023-07-03',\n",
    "        'Tuesday': '2023-07-04',\n",
    "        'Wednesday': '2023-07-05'}\n",
    "series = pd.Series(data)\n",
    "print(series)\n"
   ]
  },
  {
   "cell_type": "code",
   "execution_count": 14,
   "id": "873b3261",
   "metadata": {},
   "outputs": [
    {
     "name": "stdout",
     "output_type": "stream",
     "text": [
      "2023-07-03\n"
     ]
    }
   ],
   "source": [
    "print(series['Monday'])  # Output: 2023-07-03\n"
   ]
  },
  {
   "cell_type": "markdown",
   "id": "0ca4ab9e",
   "metadata": {},
   "source": [
    "# Creating a pandas series for only moday and tuesday"
   ]
  },
  {
   "cell_type": "code",
   "execution_count": 15,
   "id": "f8016a2a",
   "metadata": {},
   "outputs": [
    {
     "name": "stdout",
     "output_type": "stream",
     "text": [
      "Monday     2023-07-03\n",
      "Tuesday    2023-07-04\n",
      "dtype: object\n"
     ]
    }
   ],
   "source": [
    "data = {'Monday': '2023-07-03',\n",
    "        'Tuesday': '2023-07-04',\n",
    "        'Wednesday': '2023-07-05'}\n",
    "filtered_data = {key: value for key, value in data.items() if key in ['Monday', 'Tuesday']}\n",
    "series = pd.Series(filtered_data)\n",
    "print(series)\n"
   ]
  },
  {
   "cell_type": "markdown",
   "id": "aa4ea693",
   "metadata": {},
   "source": [
    "# General exercise"
   ]
  },
  {
   "cell_type": "code",
   "execution_count": 16,
   "id": "c92e5159",
   "metadata": {},
   "outputs": [],
   "source": [
    "# using different functions given to analyze \n",
    "#and clean data\n",
    "#head()-displays the first five columns in the dataset"
   ]
  },
  {
   "cell_type": "code",
   "execution_count": 17,
   "id": "3246f021",
   "metadata": {},
   "outputs": [
    {
     "data": {
      "text/html": [
       "<div>\n",
       "<style scoped>\n",
       "    .dataframe tbody tr th:only-of-type {\n",
       "        vertical-align: middle;\n",
       "    }\n",
       "\n",
       "    .dataframe tbody tr th {\n",
       "        vertical-align: top;\n",
       "    }\n",
       "\n",
       "    .dataframe thead th {\n",
       "        text-align: right;\n",
       "    }\n",
       "</style>\n",
       "<table border=\"1\" class=\"dataframe\">\n",
       "  <thead>\n",
       "    <tr style=\"text-align: right;\">\n",
       "      <th></th>\n",
       "      <th>Duration</th>\n",
       "      <th>Pulse</th>\n",
       "      <th>Maxpulse</th>\n",
       "      <th>Calories</th>\n",
       "    </tr>\n",
       "  </thead>\n",
       "  <tbody>\n",
       "    <tr>\n",
       "      <th>0</th>\n",
       "      <td>60</td>\n",
       "      <td>110</td>\n",
       "      <td>130</td>\n",
       "      <td>409.1</td>\n",
       "    </tr>\n",
       "    <tr>\n",
       "      <th>1</th>\n",
       "      <td>60</td>\n",
       "      <td>117</td>\n",
       "      <td>145</td>\n",
       "      <td>479.0</td>\n",
       "    </tr>\n",
       "    <tr>\n",
       "      <th>2</th>\n",
       "      <td>60</td>\n",
       "      <td>103</td>\n",
       "      <td>135</td>\n",
       "      <td>340.0</td>\n",
       "    </tr>\n",
       "    <tr>\n",
       "      <th>3</th>\n",
       "      <td>45</td>\n",
       "      <td>109</td>\n",
       "      <td>175</td>\n",
       "      <td>282.4</td>\n",
       "    </tr>\n",
       "    <tr>\n",
       "      <th>4</th>\n",
       "      <td>45</td>\n",
       "      <td>117</td>\n",
       "      <td>148</td>\n",
       "      <td>406.0</td>\n",
       "    </tr>\n",
       "  </tbody>\n",
       "</table>\n",
       "</div>"
      ],
      "text/plain": [
       "   Duration  Pulse  Maxpulse  Calories\n",
       "0        60    110       130     409.1\n",
       "1        60    117       145     479.0\n",
       "2        60    103       135     340.0\n",
       "3        45    109       175     282.4\n",
       "4        45    117       148     406.0"
      ]
     },
     "execution_count": 17,
     "metadata": {},
     "output_type": "execute_result"
    }
   ],
   "source": [
    "mine1=pd.read_csv(\"mine.csv\")\n",
    "mine1.head()\n"
   ]
  },
  {
   "cell_type": "code",
   "execution_count": 18,
   "id": "cf626772",
   "metadata": {},
   "outputs": [
    {
     "data": {
      "text/html": [
       "<div>\n",
       "<style scoped>\n",
       "    .dataframe tbody tr th:only-of-type {\n",
       "        vertical-align: middle;\n",
       "    }\n",
       "\n",
       "    .dataframe tbody tr th {\n",
       "        vertical-align: top;\n",
       "    }\n",
       "\n",
       "    .dataframe thead th {\n",
       "        text-align: right;\n",
       "    }\n",
       "</style>\n",
       "<table border=\"1\" class=\"dataframe\">\n",
       "  <thead>\n",
       "    <tr style=\"text-align: right;\">\n",
       "      <th></th>\n",
       "      <th>Name</th>\n",
       "      <th>city</th>\n",
       "      <th>age</th>\n",
       "      <th>py-score</th>\n",
       "    </tr>\n",
       "  </thead>\n",
       "  <tbody>\n",
       "    <tr>\n",
       "      <th>0</th>\n",
       "      <td>Emma</td>\n",
       "      <td>Kampala</td>\n",
       "      <td>23</td>\n",
       "      <td>90</td>\n",
       "    </tr>\n",
       "    <tr>\n",
       "      <th>1</th>\n",
       "      <td>Wilber</td>\n",
       "      <td>Mbale</td>\n",
       "      <td>26</td>\n",
       "      <td>75</td>\n",
       "    </tr>\n",
       "    <tr>\n",
       "      <th>2</th>\n",
       "      <td>Robin</td>\n",
       "      <td>Gulu</td>\n",
       "      <td>25</td>\n",
       "      <td>mine</td>\n",
       "    </tr>\n",
       "    <tr>\n",
       "      <th>3</th>\n",
       "      <td>Tevor</td>\n",
       "      <td>Livingstone</td>\n",
       "      <td>NaN</td>\n",
       "      <td>89</td>\n",
       "    </tr>\n",
       "    <tr>\n",
       "      <th>4</th>\n",
       "      <td>Yeko</td>\n",
       "      <td>Tororo</td>\n",
       "      <td>20</td>\n",
       "      <td>94</td>\n",
       "    </tr>\n",
       "  </tbody>\n",
       "</table>\n",
       "</div>"
      ],
      "text/plain": [
       "     Name         city  age py-score\n",
       "0    Emma      Kampala   23       90\n",
       "1  Wilber        Mbale   26       75\n",
       "2   Robin         Gulu   25     mine\n",
       "3   Tevor  Livingstone  NaN       89\n",
       "4    Yeko       Tororo   20       94"
      ]
     },
     "execution_count": 18,
     "metadata": {},
     "output_type": "execute_result"
    }
   ],
   "source": [
    "work1=pd.read_csv(\"work.csv\")\n",
    "work1.head()\n"
   ]
  },
  {
   "cell_type": "code",
   "execution_count": 19,
   "id": "3daf9822",
   "metadata": {},
   "outputs": [],
   "source": [
    "#using tail()\n",
    "#Display the last 5 rows of the dataset using tail()"
   ]
  },
  {
   "cell_type": "code",
   "execution_count": 20,
   "id": "2d6c5835",
   "metadata": {},
   "outputs": [
    {
     "data": {
      "text/html": [
       "<div>\n",
       "<style scoped>\n",
       "    .dataframe tbody tr th:only-of-type {\n",
       "        vertical-align: middle;\n",
       "    }\n",
       "\n",
       "    .dataframe tbody tr th {\n",
       "        vertical-align: top;\n",
       "    }\n",
       "\n",
       "    .dataframe thead th {\n",
       "        text-align: right;\n",
       "    }\n",
       "</style>\n",
       "<table border=\"1\" class=\"dataframe\">\n",
       "  <thead>\n",
       "    <tr style=\"text-align: right;\">\n",
       "      <th></th>\n",
       "      <th>Duration</th>\n",
       "      <th>Pulse</th>\n",
       "      <th>Maxpulse</th>\n",
       "      <th>Calories</th>\n",
       "    </tr>\n",
       "  </thead>\n",
       "  <tbody>\n",
       "    <tr>\n",
       "      <th>164</th>\n",
       "      <td>60</td>\n",
       "      <td>105</td>\n",
       "      <td>140</td>\n",
       "      <td>290.8</td>\n",
       "    </tr>\n",
       "    <tr>\n",
       "      <th>165</th>\n",
       "      <td>60</td>\n",
       "      <td>110</td>\n",
       "      <td>145</td>\n",
       "      <td>300.0</td>\n",
       "    </tr>\n",
       "    <tr>\n",
       "      <th>166</th>\n",
       "      <td>60</td>\n",
       "      <td>115</td>\n",
       "      <td>145</td>\n",
       "      <td>310.2</td>\n",
       "    </tr>\n",
       "    <tr>\n",
       "      <th>167</th>\n",
       "      <td>75</td>\n",
       "      <td>120</td>\n",
       "      <td>150</td>\n",
       "      <td>320.4</td>\n",
       "    </tr>\n",
       "    <tr>\n",
       "      <th>168</th>\n",
       "      <td>75</td>\n",
       "      <td>125</td>\n",
       "      <td>150</td>\n",
       "      <td>330.4</td>\n",
       "    </tr>\n",
       "  </tbody>\n",
       "</table>\n",
       "</div>"
      ],
      "text/plain": [
       "     Duration  Pulse  Maxpulse  Calories\n",
       "164        60    105       140     290.8\n",
       "165        60    110       145     300.0\n",
       "166        60    115       145     310.2\n",
       "167        75    120       150     320.4\n",
       "168        75    125       150     330.4"
      ]
     },
     "execution_count": 20,
     "metadata": {},
     "output_type": "execute_result"
    }
   ],
   "source": [
    "mine1=pd.read_csv(\"mine.csv\")\n",
    "mine1.tail()"
   ]
  },
  {
   "cell_type": "code",
   "execution_count": 21,
   "id": "cf56cd68",
   "metadata": {},
   "outputs": [
    {
     "data": {
      "text/html": [
       "<div>\n",
       "<style scoped>\n",
       "    .dataframe tbody tr th:only-of-type {\n",
       "        vertical-align: middle;\n",
       "    }\n",
       "\n",
       "    .dataframe tbody tr th {\n",
       "        vertical-align: top;\n",
       "    }\n",
       "\n",
       "    .dataframe thead th {\n",
       "        text-align: right;\n",
       "    }\n",
       "</style>\n",
       "<table border=\"1\" class=\"dataframe\">\n",
       "  <thead>\n",
       "    <tr style=\"text-align: right;\">\n",
       "      <th></th>\n",
       "      <th>Name</th>\n",
       "      <th>city</th>\n",
       "      <th>age</th>\n",
       "      <th>py-score</th>\n",
       "    </tr>\n",
       "  </thead>\n",
       "  <tbody>\n",
       "    <tr>\n",
       "      <th>2</th>\n",
       "      <td>Robin</td>\n",
       "      <td>Gulu</td>\n",
       "      <td>25</td>\n",
       "      <td>mine</td>\n",
       "    </tr>\n",
       "    <tr>\n",
       "      <th>3</th>\n",
       "      <td>Tevor</td>\n",
       "      <td>Livingstone</td>\n",
       "      <td>NaN</td>\n",
       "      <td>89</td>\n",
       "    </tr>\n",
       "    <tr>\n",
       "      <th>4</th>\n",
       "      <td>Yeko</td>\n",
       "      <td>Tororo</td>\n",
       "      <td>20</td>\n",
       "      <td>94</td>\n",
       "    </tr>\n",
       "    <tr>\n",
       "      <th>5</th>\n",
       "      <td>Miriam</td>\n",
       "      <td>Arua</td>\n",
       "      <td>Train</td>\n",
       "      <td>NaN</td>\n",
       "    </tr>\n",
       "    <tr>\n",
       "      <th>6</th>\n",
       "      <td>Jesca</td>\n",
       "      <td>Mbarara</td>\n",
       "      <td>21</td>\n",
       "      <td>84</td>\n",
       "    </tr>\n",
       "  </tbody>\n",
       "</table>\n",
       "</div>"
      ],
      "text/plain": [
       "     Name         city    age py-score\n",
       "2   Robin         Gulu     25     mine\n",
       "3   Tevor  Livingstone    NaN       89\n",
       "4    Yeko       Tororo     20       94\n",
       "5  Miriam         Arua  Train      NaN\n",
       "6   Jesca      Mbarara     21       84"
      ]
     },
     "execution_count": 21,
     "metadata": {},
     "output_type": "execute_result"
    }
   ],
   "source": [
    "work1=pd.read_csv(\"work.csv\")\n",
    "work1.tail()"
   ]
  },
  {
   "cell_type": "code",
   "execution_count": 22,
   "id": "84c13ed1",
   "metadata": {},
   "outputs": [],
   "source": [
    "#using info() functions which gives a\n",
    "#summary of the dataset including their column datatypes"
   ]
  },
  {
   "cell_type": "code",
   "execution_count": 23,
   "id": "0d615bc4",
   "metadata": {},
   "outputs": [
    {
     "name": "stdout",
     "output_type": "stream",
     "text": [
      "<class 'pandas.core.frame.DataFrame'>\n",
      "RangeIndex: 169 entries, 0 to 168\n",
      "Data columns (total 4 columns):\n",
      " #   Column    Non-Null Count  Dtype  \n",
      "---  ------    --------------  -----  \n",
      " 0   Duration  169 non-null    int64  \n",
      " 1   Pulse     169 non-null    int64  \n",
      " 2   Maxpulse  169 non-null    int64  \n",
      " 3   Calories  164 non-null    float64\n",
      "dtypes: float64(1), int64(3)\n",
      "memory usage: 5.4 KB\n"
     ]
    }
   ],
   "source": [
    "mine1.info()"
   ]
  },
  {
   "cell_type": "code",
   "execution_count": 24,
   "id": "11c59f60",
   "metadata": {},
   "outputs": [
    {
     "name": "stdout",
     "output_type": "stream",
     "text": [
      "<class 'pandas.core.frame.DataFrame'>\n",
      "RangeIndex: 7 entries, 0 to 6\n",
      "Data columns (total 4 columns):\n",
      " #   Column    Non-Null Count  Dtype \n",
      "---  ------    --------------  ----- \n",
      " 0   Name      7 non-null      object\n",
      " 1   city      7 non-null      object\n",
      " 2   age       6 non-null      object\n",
      " 3   py-score  6 non-null      object\n",
      "dtypes: object(4)\n",
      "memory usage: 352.0+ bytes\n"
     ]
    }
   ],
   "source": [
    "work1.info()"
   ]
  },
  {
   "cell_type": "code",
   "execution_count": 25,
   "id": "b63aaee1",
   "metadata": {},
   "outputs": [],
   "source": [
    "#using dropna() function which drops rows\n",
    "#with missing values eg tevor was dropped"
   ]
  },
  {
   "cell_type": "code",
   "execution_count": 26,
   "id": "91992cf1",
   "metadata": {},
   "outputs": [
    {
     "data": {
      "text/html": [
       "<div>\n",
       "<style scoped>\n",
       "    .dataframe tbody tr th:only-of-type {\n",
       "        vertical-align: middle;\n",
       "    }\n",
       "\n",
       "    .dataframe tbody tr th {\n",
       "        vertical-align: top;\n",
       "    }\n",
       "\n",
       "    .dataframe thead th {\n",
       "        text-align: right;\n",
       "    }\n",
       "</style>\n",
       "<table border=\"1\" class=\"dataframe\">\n",
       "  <thead>\n",
       "    <tr style=\"text-align: right;\">\n",
       "      <th></th>\n",
       "      <th>Name</th>\n",
       "      <th>city</th>\n",
       "      <th>age</th>\n",
       "      <th>py-score</th>\n",
       "    </tr>\n",
       "  </thead>\n",
       "  <tbody>\n",
       "    <tr>\n",
       "      <th>0</th>\n",
       "      <td>Emma</td>\n",
       "      <td>Kampala</td>\n",
       "      <td>23</td>\n",
       "      <td>90</td>\n",
       "    </tr>\n",
       "    <tr>\n",
       "      <th>1</th>\n",
       "      <td>Wilber</td>\n",
       "      <td>Mbale</td>\n",
       "      <td>26</td>\n",
       "      <td>75</td>\n",
       "    </tr>\n",
       "    <tr>\n",
       "      <th>2</th>\n",
       "      <td>Robin</td>\n",
       "      <td>Gulu</td>\n",
       "      <td>25</td>\n",
       "      <td>mine</td>\n",
       "    </tr>\n",
       "    <tr>\n",
       "      <th>4</th>\n",
       "      <td>Yeko</td>\n",
       "      <td>Tororo</td>\n",
       "      <td>20</td>\n",
       "      <td>94</td>\n",
       "    </tr>\n",
       "    <tr>\n",
       "      <th>6</th>\n",
       "      <td>Jesca</td>\n",
       "      <td>Mbarara</td>\n",
       "      <td>21</td>\n",
       "      <td>84</td>\n",
       "    </tr>\n",
       "  </tbody>\n",
       "</table>\n",
       "</div>"
      ],
      "text/plain": [
       "     Name     city age py-score\n",
       "0    Emma  Kampala  23       90\n",
       "1  Wilber    Mbale  26       75\n",
       "2   Robin     Gulu  25     mine\n",
       "4    Yeko   Tororo  20       94\n",
       "6   Jesca  Mbarara  21       84"
      ]
     },
     "execution_count": 26,
     "metadata": {},
     "output_type": "execute_result"
    }
   ],
   "source": [
    "work1.dropna()"
   ]
  },
  {
   "cell_type": "code",
   "execution_count": 27,
   "id": "443d547b",
   "metadata": {},
   "outputs": [
    {
     "data": {
      "text/html": [
       "<div>\n",
       "<style scoped>\n",
       "    .dataframe tbody tr th:only-of-type {\n",
       "        vertical-align: middle;\n",
       "    }\n",
       "\n",
       "    .dataframe tbody tr th {\n",
       "        vertical-align: top;\n",
       "    }\n",
       "\n",
       "    .dataframe thead th {\n",
       "        text-align: right;\n",
       "    }\n",
       "</style>\n",
       "<table border=\"1\" class=\"dataframe\">\n",
       "  <thead>\n",
       "    <tr style=\"text-align: right;\">\n",
       "      <th></th>\n",
       "      <th>Duration</th>\n",
       "      <th>Pulse</th>\n",
       "      <th>Maxpulse</th>\n",
       "      <th>Calories</th>\n",
       "    </tr>\n",
       "  </thead>\n",
       "  <tbody>\n",
       "    <tr>\n",
       "      <th>0</th>\n",
       "      <td>60</td>\n",
       "      <td>110</td>\n",
       "      <td>130</td>\n",
       "      <td>409.1</td>\n",
       "    </tr>\n",
       "    <tr>\n",
       "      <th>1</th>\n",
       "      <td>60</td>\n",
       "      <td>117</td>\n",
       "      <td>145</td>\n",
       "      <td>479.0</td>\n",
       "    </tr>\n",
       "    <tr>\n",
       "      <th>2</th>\n",
       "      <td>60</td>\n",
       "      <td>103</td>\n",
       "      <td>135</td>\n",
       "      <td>340.0</td>\n",
       "    </tr>\n",
       "    <tr>\n",
       "      <th>3</th>\n",
       "      <td>45</td>\n",
       "      <td>109</td>\n",
       "      <td>175</td>\n",
       "      <td>282.4</td>\n",
       "    </tr>\n",
       "    <tr>\n",
       "      <th>4</th>\n",
       "      <td>45</td>\n",
       "      <td>117</td>\n",
       "      <td>148</td>\n",
       "      <td>406.0</td>\n",
       "    </tr>\n",
       "    <tr>\n",
       "      <th>...</th>\n",
       "      <td>...</td>\n",
       "      <td>...</td>\n",
       "      <td>...</td>\n",
       "      <td>...</td>\n",
       "    </tr>\n",
       "    <tr>\n",
       "      <th>164</th>\n",
       "      <td>60</td>\n",
       "      <td>105</td>\n",
       "      <td>140</td>\n",
       "      <td>290.8</td>\n",
       "    </tr>\n",
       "    <tr>\n",
       "      <th>165</th>\n",
       "      <td>60</td>\n",
       "      <td>110</td>\n",
       "      <td>145</td>\n",
       "      <td>300.0</td>\n",
       "    </tr>\n",
       "    <tr>\n",
       "      <th>166</th>\n",
       "      <td>60</td>\n",
       "      <td>115</td>\n",
       "      <td>145</td>\n",
       "      <td>310.2</td>\n",
       "    </tr>\n",
       "    <tr>\n",
       "      <th>167</th>\n",
       "      <td>75</td>\n",
       "      <td>120</td>\n",
       "      <td>150</td>\n",
       "      <td>320.4</td>\n",
       "    </tr>\n",
       "    <tr>\n",
       "      <th>168</th>\n",
       "      <td>75</td>\n",
       "      <td>125</td>\n",
       "      <td>150</td>\n",
       "      <td>330.4</td>\n",
       "    </tr>\n",
       "  </tbody>\n",
       "</table>\n",
       "<p>164 rows × 4 columns</p>\n",
       "</div>"
      ],
      "text/plain": [
       "     Duration  Pulse  Maxpulse  Calories\n",
       "0          60    110       130     409.1\n",
       "1          60    117       145     479.0\n",
       "2          60    103       135     340.0\n",
       "3          45    109       175     282.4\n",
       "4          45    117       148     406.0\n",
       "..        ...    ...       ...       ...\n",
       "164        60    105       140     290.8\n",
       "165        60    110       145     300.0\n",
       "166        60    115       145     310.2\n",
       "167        75    120       150     320.4\n",
       "168        75    125       150     330.4\n",
       "\n",
       "[164 rows x 4 columns]"
      ]
     },
     "execution_count": 27,
     "metadata": {},
     "output_type": "execute_result"
    }
   ],
   "source": [
    "mine1.dropna()"
   ]
  },
  {
   "cell_type": "code",
   "execution_count": 28,
   "id": "791952cd",
   "metadata": {},
   "outputs": [],
   "source": [
    "# using fillna() function which displays the dataset after \n",
    "#filling missing values"
   ]
  },
  {
   "cell_type": "code",
   "execution_count": 67,
   "id": "0091307f",
   "metadata": {},
   "outputs": [
    {
     "name": "stdout",
     "output_type": "stream",
     "text": [
      "     Name         city    age py-score\n",
      "0    Emma      Kampala     23       90\n",
      "1  Wilber        Mbale     26       75\n",
      "2   Tevor  Livingstone      0       89\n",
      "3    Yeko       Tororo     20       94\n",
      "4  Miriam         Arua  Train        0\n",
      "5   Jesca      Mbarara     21       84\n"
     ]
    }
   ],
   "source": [
    "fill_in = work1.fillna(0)\n",
    "print(fill_in)"
   ]
  },
  {
   "cell_type": "code",
   "execution_count": 66,
   "id": "d86e722e",
   "metadata": {},
   "outputs": [
    {
     "name": "stdout",
     "output_type": "stream",
     "text": [
      "     Duration  Pulse  Maxpulse  Calories\n",
      "0          60    110       130     409.1\n",
      "1          60    117       145     479.0\n",
      "2          60    103       135     340.0\n",
      "3          45    109       175     282.4\n",
      "4          45    117       148     406.0\n",
      "..        ...    ...       ...       ...\n",
      "157        60    105       140     290.8\n",
      "158        60    110       145     300.0\n",
      "159        60    115       145     310.2\n",
      "160        75    120       150     320.4\n",
      "161        75    125       150     330.4\n",
      "\n",
      "[162 rows x 4 columns]\n"
     ]
    }
   ],
   "source": [
    "fill_in = mine1.fillna(0)\n",
    "print(fill_in)"
   ]
  },
  {
   "cell_type": "markdown",
   "id": "7f59754a",
   "metadata": {},
   "source": [
    "# Qn2. Performing appropriate methods to remove wrong data"
   ]
  },
  {
   "cell_type": "code",
   "execution_count": 45,
   "id": "827e1a5f",
   "metadata": {},
   "outputs": [
    {
     "name": "stdout",
     "output_type": "stream",
     "text": [
      "    Name   city    age  py-score\n",
      "0  False  False  False     False\n",
      "1  False  False  False     False\n",
      "2  False  False   True     False\n",
      "3  False  False  False     False\n",
      "4  False  False  False      True\n",
      "5  False  False  False     False\n"
     ]
    }
   ],
   "source": [
    "missing = work1.isnull()\n",
    "print(missing)"
   ]
  },
  {
   "cell_type": "code",
   "execution_count": 46,
   "id": "bf5d2891",
   "metadata": {},
   "outputs": [
    {
     "data": {
      "text/html": [
       "<div>\n",
       "<style scoped>\n",
       "    .dataframe tbody tr th:only-of-type {\n",
       "        vertical-align: middle;\n",
       "    }\n",
       "\n",
       "    .dataframe tbody tr th {\n",
       "        vertical-align: top;\n",
       "    }\n",
       "\n",
       "    .dataframe thead th {\n",
       "        text-align: right;\n",
       "    }\n",
       "</style>\n",
       "<table border=\"1\" class=\"dataframe\">\n",
       "  <thead>\n",
       "    <tr style=\"text-align: right;\">\n",
       "      <th></th>\n",
       "      <th>Duration</th>\n",
       "      <th>Pulse</th>\n",
       "      <th>Maxpulse</th>\n",
       "      <th>Calories</th>\n",
       "    </tr>\n",
       "  </thead>\n",
       "  <tbody>\n",
       "    <tr>\n",
       "      <th>0</th>\n",
       "      <td>False</td>\n",
       "      <td>False</td>\n",
       "      <td>False</td>\n",
       "      <td>False</td>\n",
       "    </tr>\n",
       "    <tr>\n",
       "      <th>1</th>\n",
       "      <td>False</td>\n",
       "      <td>False</td>\n",
       "      <td>False</td>\n",
       "      <td>False</td>\n",
       "    </tr>\n",
       "    <tr>\n",
       "      <th>2</th>\n",
       "      <td>False</td>\n",
       "      <td>False</td>\n",
       "      <td>False</td>\n",
       "      <td>False</td>\n",
       "    </tr>\n",
       "    <tr>\n",
       "      <th>3</th>\n",
       "      <td>False</td>\n",
       "      <td>False</td>\n",
       "      <td>False</td>\n",
       "      <td>False</td>\n",
       "    </tr>\n",
       "    <tr>\n",
       "      <th>4</th>\n",
       "      <td>False</td>\n",
       "      <td>False</td>\n",
       "      <td>False</td>\n",
       "      <td>False</td>\n",
       "    </tr>\n",
       "    <tr>\n",
       "      <th>...</th>\n",
       "      <td>...</td>\n",
       "      <td>...</td>\n",
       "      <td>...</td>\n",
       "      <td>...</td>\n",
       "    </tr>\n",
       "    <tr>\n",
       "      <th>157</th>\n",
       "      <td>False</td>\n",
       "      <td>False</td>\n",
       "      <td>False</td>\n",
       "      <td>False</td>\n",
       "    </tr>\n",
       "    <tr>\n",
       "      <th>158</th>\n",
       "      <td>False</td>\n",
       "      <td>False</td>\n",
       "      <td>False</td>\n",
       "      <td>False</td>\n",
       "    </tr>\n",
       "    <tr>\n",
       "      <th>159</th>\n",
       "      <td>False</td>\n",
       "      <td>False</td>\n",
       "      <td>False</td>\n",
       "      <td>False</td>\n",
       "    </tr>\n",
       "    <tr>\n",
       "      <th>160</th>\n",
       "      <td>False</td>\n",
       "      <td>False</td>\n",
       "      <td>False</td>\n",
       "      <td>False</td>\n",
       "    </tr>\n",
       "    <tr>\n",
       "      <th>161</th>\n",
       "      <td>False</td>\n",
       "      <td>False</td>\n",
       "      <td>False</td>\n",
       "      <td>False</td>\n",
       "    </tr>\n",
       "  </tbody>\n",
       "</table>\n",
       "<p>162 rows × 4 columns</p>\n",
       "</div>"
      ],
      "text/plain": [
       "     Duration  Pulse  Maxpulse  Calories\n",
       "0       False  False     False     False\n",
       "1       False  False     False     False\n",
       "2       False  False     False     False\n",
       "3       False  False     False     False\n",
       "4       False  False     False     False\n",
       "..        ...    ...       ...       ...\n",
       "157     False  False     False     False\n",
       "158     False  False     False     False\n",
       "159     False  False     False     False\n",
       "160     False  False     False     False\n",
       "161     False  False     False     False\n",
       "\n",
       "[162 rows x 4 columns]"
      ]
     },
     "execution_count": 46,
     "metadata": {},
     "output_type": "execute_result"
    }
   ],
   "source": [
    "missing2=mine1.isnull()\n",
    "missing2"
   ]
  },
  {
   "cell_type": "code",
   "execution_count": 58,
   "id": "2f2e506e",
   "metadata": {},
   "outputs": [
    {
     "name": "stdout",
     "output_type": "stream",
     "text": [
      "     Name     city age py-score\n",
      "0    Emma  Kampala  23       90\n",
      "1  Wilber    Mbale  26       75\n",
      "3    Yeko   Tororo  20       94\n",
      "5   Jesca  Mbarara  21       84\n"
     ]
    }
   ],
   "source": [
    "drop_column = work1.dropna()\n",
    "print(drop_column.to_string())\n"
   ]
  },
  {
   "cell_type": "code",
   "execution_count": 59,
   "id": "50aae6f6",
   "metadata": {},
   "outputs": [
    {
     "name": "stdout",
     "output_type": "stream",
     "text": [
      "     Name         city\n",
      "0    Emma      Kampala\n",
      "1  Wilber        Mbale\n",
      "2   Tevor  Livingstone\n",
      "3    Yeko       Tororo\n",
      "4  Miriam         Arua\n",
      "5   Jesca      Mbarara\n"
     ]
    },
    {
     "name": "stderr",
     "output_type": "stream",
     "text": [
      "C:\\Users\\Linda\\AppData\\Local\\Temp\\ipykernel_1680\\2211074421.py:2: FutureWarning: In a future version of pandas all arguments of DataFrame.dropna will be keyword-only.\n",
      "  drop_column = work1.dropna(1)\n"
     ]
    }
   ],
   "source": [
    "\n",
    "#here it dropped one column of age\n",
    "drop_column = work1.dropna(1)\n",
    "print(drop_column.to_string())\n"
   ]
  },
  {
   "cell_type": "markdown",
   "id": "067d4dc1",
   "metadata": {},
   "source": [
    "# Removing duplicates from the dataset"
   ]
  },
  {
   "cell_type": "code",
   "execution_count": 38,
   "id": "de56688e",
   "metadata": {},
   "outputs": [
    {
     "name": "stdout",
     "output_type": "stream",
     "text": [
      "     Duration  Pulse  Maxpulse  Calories\n",
      "0          60    110       130     409.1\n",
      "1          60    117       145     479.0\n",
      "2          60    103       135     340.0\n",
      "3          45    109       175     282.4\n",
      "4          45    117       148     406.0\n",
      "..        ...    ...       ...       ...\n",
      "157        60    105       140     290.8\n",
      "158        60    110       145     300.0\n",
      "159        60    115       145     310.2\n",
      "160        75    120       150     320.4\n",
      "161        75    125       150     330.4\n",
      "\n",
      "[162 rows x 4 columns]\n"
     ]
    }
   ],
   "source": [
    "mine1.drop_duplicates(inplace=True)\n",
    "mine1.reset_index(drop=True, inplace=True)\n",
    "print(mine1)"
   ]
  },
  {
   "cell_type": "code",
   "execution_count": null,
   "id": "63eaee67",
   "metadata": {},
   "outputs": [],
   "source": []
  },
  {
   "cell_type": "code",
   "execution_count": 39,
   "id": "0fdc53a8",
   "metadata": {},
   "outputs": [
    {
     "name": "stdout",
     "output_type": "stream",
     "text": [
      "     Name         city    age py-score\n",
      "0    Emma      Kampala     23       90\n",
      "1  Wilber        Mbale     26       75\n",
      "2   Tevor  Livingstone    NaN       89\n",
      "3    Yeko       Tororo     20       94\n",
      "4  Miriam         Arua  Train      NaN\n",
      "5   Jesca      Mbarara     21       84\n"
     ]
    }
   ],
   "source": [
    "work1.drop_duplicates(inplace=True)\n",
    "work1.reset_index(drop=True, inplace=True)\n",
    "print(work1)"
   ]
  },
  {
   "cell_type": "code",
   "execution_count": null,
   "id": "6d0692d7",
   "metadata": {},
   "outputs": [],
   "source": []
  },
  {
   "cell_type": "code",
   "execution_count": 40,
   "id": "66becf95",
   "metadata": {},
   "outputs": [
    {
     "data": {
      "text/html": [
       "<div>\n",
       "<style scoped>\n",
       "    .dataframe tbody tr th:only-of-type {\n",
       "        vertical-align: middle;\n",
       "    }\n",
       "\n",
       "    .dataframe tbody tr th {\n",
       "        vertical-align: top;\n",
       "    }\n",
       "\n",
       "    .dataframe thead th {\n",
       "        text-align: right;\n",
       "    }\n",
       "</style>\n",
       "<table border=\"1\" class=\"dataframe\">\n",
       "  <thead>\n",
       "    <tr style=\"text-align: right;\">\n",
       "      <th></th>\n",
       "      <th>Duration</th>\n",
       "      <th>Pulse</th>\n",
       "      <th>Maxpulse</th>\n",
       "      <th>Calories</th>\n",
       "    </tr>\n",
       "  </thead>\n",
       "  <tbody>\n",
       "    <tr>\n",
       "      <th>Duration</th>\n",
       "      <td>1.000000</td>\n",
       "      <td>-0.162098</td>\n",
       "      <td>0.003578</td>\n",
       "      <td>0.923053</td>\n",
       "    </tr>\n",
       "    <tr>\n",
       "      <th>Pulse</th>\n",
       "      <td>-0.162098</td>\n",
       "      <td>1.000000</td>\n",
       "      <td>0.787035</td>\n",
       "      <td>0.015301</td>\n",
       "    </tr>\n",
       "    <tr>\n",
       "      <th>Maxpulse</th>\n",
       "      <td>0.003578</td>\n",
       "      <td>0.787035</td>\n",
       "      <td>1.000000</td>\n",
       "      <td>0.195309</td>\n",
       "    </tr>\n",
       "    <tr>\n",
       "      <th>Calories</th>\n",
       "      <td>0.923053</td>\n",
       "      <td>0.015301</td>\n",
       "      <td>0.195309</td>\n",
       "      <td>1.000000</td>\n",
       "    </tr>\n",
       "  </tbody>\n",
       "</table>\n",
       "</div>"
      ],
      "text/plain": [
       "          Duration     Pulse  Maxpulse  Calories\n",
       "Duration  1.000000 -0.162098  0.003578  0.923053\n",
       "Pulse    -0.162098  1.000000  0.787035  0.015301\n",
       "Maxpulse  0.003578  0.787035  1.000000  0.195309\n",
       "Calories  0.923053  0.015301  0.195309  1.000000"
      ]
     },
     "execution_count": 40,
     "metadata": {},
     "output_type": "execute_result"
    }
   ],
   "source": [
    "my_matrix=mine1.corr()\n",
    "my_matrix"
   ]
  },
  {
   "cell_type": "code",
   "execution_count": null,
   "id": "1e6c0068",
   "metadata": {},
   "outputs": [],
   "source": []
  }
 ],
 "metadata": {
  "kernelspec": {
   "display_name": "Python 3 (ipykernel)",
   "language": "python",
   "name": "python3"
  },
  "language_info": {
   "codemirror_mode": {
    "name": "ipython",
    "version": 3
   },
   "file_extension": ".py",
   "mimetype": "text/x-python",
   "name": "python",
   "nbconvert_exporter": "python",
   "pygments_lexer": "ipython3",
   "version": "3.10.9"
  }
 },
 "nbformat": 4,
 "nbformat_minor": 5
}
